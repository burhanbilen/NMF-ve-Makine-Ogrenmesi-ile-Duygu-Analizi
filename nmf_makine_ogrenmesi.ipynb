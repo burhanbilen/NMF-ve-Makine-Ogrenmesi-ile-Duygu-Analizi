{
 "cells": [
  {
   "cell_type": "code",
   "execution_count": 2,
   "id": "competent-pressing",
   "metadata": {},
   "outputs": [],
   "source": [
    "import re\n",
    "import pandas as pd\n",
    "from nltk.corpus import stopwords\n",
    "from sklearn.model_selection import train_test_split\n",
    "from keras.models import Sequential\n",
    "from keras.layers import Dense, Activation, Dropout, Flatten, LSTM\n",
    "from sklearn.feature_extraction.text import CountVectorizer, TfidfVectorizer\n",
    "from sklearn import model_selection, naive_bayes, svm, linear_model\n",
    "from sklearn.metrics import accuracy_score\n",
    "from sklearn.metrics import confusion_matrix\n",
    "from keras.preprocessing.text import Tokenizer\n",
    "from keras.preprocessing import sequence\n",
    "from keras.layers.embeddings import Embedding\n",
    "from sklearn.decomposition import NMF\n",
    "from scipy.sparse import vstack\n",
    "import matplotlib.pyplot as plt\n",
    "import seaborn as sns\n",
    "import numpy as np"
   ]
  },
  {
   "cell_type": "code",
   "execution_count": 5,
   "id": "disabled-balloon",
   "metadata": {},
   "outputs": [],
   "source": [
    "df = pd.read_csv(\"data.csv\")\n",
    "\n",
    "X = np.array(df[\"Görüş\"].values.astype('U')) \n",
    "df[\"Durum\"].replace({\"Olumlu\": 1, \"Olumsuz\": 0}, inplace=True)\n",
    "y = np.array(df[\"Durum\"].values)"
   ]
  },
  {
   "cell_type": "code",
   "execution_count": 6,
   "id": "completed-climate",
   "metadata": {},
   "outputs": [
    {
     "name": "stdout",
     "output_type": "stream",
     "text": [
      "[[0 0 0 ... 0 0 0]\n",
      " [0 0 0 ... 0 0 0]\n",
      " [0 0 0 ... 0 0 0]\n",
      " ...\n",
      " [0 0 0 ... 0 0 0]\n",
      " [0 0 0 ... 0 0 0]\n",
      " [0 0 0 ... 0 0 0]]\n"
     ]
    }
   ],
   "source": [
    "count = CountVectorizer()\n",
    "X = count.fit_transform(X)\n",
    "\n",
    "print(X.toarray())"
   ]
  },
  {
   "cell_type": "code",
   "execution_count": 7,
   "id": "forbidden-strand",
   "metadata": {},
   "outputs": [],
   "source": [
    "X_train, X_test, y_train, y_test = train_test_split(X, y, test_size=0.05)"
   ]
  },
  {
   "cell_type": "code",
   "execution_count": 8,
   "id": "directed-finder",
   "metadata": {},
   "outputs": [],
   "source": [
    "FullMatrix=vstack([X_train, X_test])"
   ]
  },
  {
   "cell_type": "markdown",
   "id": "cleared-collins",
   "metadata": {},
   "source": [
    "### NMF ile veri dönüşümü"
   ]
  },
  {
   "cell_type": "code",
   "execution_count": 9,
   "id": "annual-possession",
   "metadata": {},
   "outputs": [
    {
     "name": "stdout",
     "output_type": "stream",
     "text": [
      "(8348, 200)\n",
      "(200, 27155)\n"
     ]
    }
   ],
   "source": [
    "model = NMF(n_components=200, init='random', random_state=0)\n",
    "W = model.fit_transform(FullMatrix)\n",
    "H = model.components_\n",
    "\n",
    "print(W.shape)\n",
    "print(H.shape)"
   ]
  },
  {
   "cell_type": "code",
   "execution_count": 19,
   "id": "tender-guinea",
   "metadata": {},
   "outputs": [],
   "source": [
    "TESTvector=W[0:2681,:]\n",
    "TRAINvector=W[2681:7930,:]\n",
    "\n",
    "TestOUTPUT = y_train[:2681]\n",
    "TrainOUTPUT = y_train[2681:]"
   ]
  },
  {
   "cell_type": "markdown",
   "id": "secret-prime",
   "metadata": {},
   "source": [
    "### SVM"
   ]
  },
  {
   "cell_type": "code",
   "execution_count": 11,
   "id": "strong-detail",
   "metadata": {},
   "outputs": [
    {
     "name": "stdout",
     "output_type": "stream",
     "text": [
      "SVM Accuracy Score ->  81.79783662812383\n"
     ]
    }
   ],
   "source": [
    "SVM = svm.SVC()\n",
    "SVM.fit(TRAINvector,TrainOUTPUT)\n",
    "\n",
    "predictions_SVM = SVM.predict(TESTvector)\n",
    "\n",
    "print(\"SVM Accuracy Score -> \",accuracy_score(predictions_SVM, TestOUTPUT)*100)"
   ]
  },
  {
   "cell_type": "markdown",
   "id": "rising-parks",
   "metadata": {},
   "source": [
    "### Yapay Sinir Ağı"
   ]
  },
  {
   "cell_type": "code",
   "execution_count": 47,
   "id": "elementary-victor",
   "metadata": {},
   "outputs": [
    {
     "name": "stdout",
     "output_type": "stream",
     "text": [
      "Model: \"sequential_28\"\n",
      "_________________________________________________________________\n",
      "Layer (type)                 Output Shape              Param #   \n",
      "=================================================================\n",
      "dense_66 (Dense)             (None, 5249, 1, 72)       14472     \n",
      "_________________________________________________________________\n",
      "activation_6 (Activation)    (None, 5249, 1, 72)       0         \n",
      "_________________________________________________________________\n",
      "dropout_39 (Dropout)         (None, 5249, 1, 72)       0         \n",
      "_________________________________________________________________\n",
      "dense_67 (Dense)             (None, 5249, 1, 48)       3504      \n",
      "_________________________________________________________________\n",
      "activation_7 (Activation)    (None, 5249, 1, 48)       0         \n",
      "_________________________________________________________________\n",
      "dense_68 (Dense)             (None, 5249, 1, 1)        49        \n",
      "_________________________________________________________________\n",
      "activation_8 (Activation)    (None, 5249, 1, 1)        0         \n",
      "=================================================================\n",
      "Total params: 18,025\n",
      "Trainable params: 18,025\n",
      "Non-trainable params: 0\n",
      "_________________________________________________________________\n",
      "Epoch 1/10\n",
      "WARNING:tensorflow:Model was constructed with shape (None, 5249, 1, 200) for input Tensor(\"dense_66_input:0\", shape=(None, 5249, 1, 200), dtype=float32), but it was called on an input with incompatible shape (None, 1, 200).\n",
      "WARNING:tensorflow:Model was constructed with shape (None, 5249, 1, 200) for input Tensor(\"dense_66_input:0\", shape=(None, 5249, 1, 200), dtype=float32), but it was called on an input with incompatible shape (None, 1, 200).\n",
      "302/329 [==========================>...] - ETA: 0s - loss: 0.5804 - accuracy: 0.7308WARNING:tensorflow:Model was constructed with shape (None, 5249, 1, 200) for input Tensor(\"dense_66_input:0\", shape=(None, 5249, 1, 200), dtype=float32), but it was called on an input with incompatible shape (None, 1, 200).\n",
      "329/329 [==============================] - 1s 2ms/step - loss: 0.5684 - accuracy: 0.7375 - val_loss: 0.3928 - val_accuracy: 0.8299\n",
      "Epoch 2/10\n",
      "329/329 [==============================] - 1s 2ms/step - loss: 0.3611 - accuracy: 0.8451 - val_loss: 0.3472 - val_accuracy: 0.8437\n",
      "Epoch 3/10\n",
      "329/329 [==============================] - 1s 2ms/step - loss: 0.3364 - accuracy: 0.8558 - val_loss: 0.3474 - val_accuracy: 0.8433\n",
      "Epoch 4/10\n",
      "329/329 [==============================] - 1s 2ms/step - loss: 0.3197 - accuracy: 0.8647 - val_loss: 0.3489 - val_accuracy: 0.8512\n",
      "Epoch 5/10\n",
      "329/329 [==============================] - 1s 2ms/step - loss: 0.3106 - accuracy: 0.8661 - val_loss: 0.3422 - val_accuracy: 0.8441\n",
      "Epoch 6/10\n",
      "329/329 [==============================] - 1s 2ms/step - loss: 0.3050 - accuracy: 0.8678 - val_loss: 0.3430 - val_accuracy: 0.8445\n",
      "Epoch 7/10\n",
      "329/329 [==============================] - 1s 2ms/step - loss: 0.2931 - accuracy: 0.8777 - val_loss: 0.3484 - val_accuracy: 0.8489\n",
      "Epoch 8/10\n",
      "329/329 [==============================] - 1s 2ms/step - loss: 0.2863 - accuracy: 0.8779 - val_loss: 0.3374 - val_accuracy: 0.8512\n",
      "Epoch 9/10\n",
      "329/329 [==============================] - 1s 2ms/step - loss: 0.2779 - accuracy: 0.8809 - val_loss: 0.3418 - val_accuracy: 0.8445\n",
      "Epoch 10/10\n",
      "329/329 [==============================] - 1s 2ms/step - loss: 0.2721 - accuracy: 0.8872 - val_loss: 0.3412 - val_accuracy: 0.8474\n",
      "84/84 [==============================] - 0s 1ms/step - loss: 0.3412 - accuracy: 0.8474\n",
      "Loss ->  0.34117916226387024 Accuracy ->  0.847445011138916\n"
     ]
    }
   ],
   "source": [
    "ysa = Sequential()\n",
    "ysa.add(Dense(72, input_shape = (TRAINvector.shape)))\n",
    "ysa.add(Activation(\"relu\"))\n",
    "ysa.add(Dropout(0.2))\n",
    "ysa.add(Dense(48))\n",
    "ysa.add(Activation(\"relu\"))\n",
    "ysa.add(Dense(1))\n",
    "ysa.add(Activation(\"sigmoid\"))\n",
    "\n",
    "ysa.compile(loss='binary_crossentropy', optimizer='adam', metrics=['accuracy'])\n",
    "\n",
    "ysa.summary()\n",
    "\n",
    "ysa.fit(TRAINvector,TrainOUTPUT, epochs=10, batch_size=16, validation_data=(TESTvector, TestOUTPUT))\n",
    "\n",
    "test_loss, test_acc = ysa.evaluate(TESTvector, TestOUTPUT)\n",
    "print(\"Loss -> \", test_loss, \"Accuracy -> \", test_acc)"
   ]
  },
  {
   "cell_type": "markdown",
   "id": "refined-failing",
   "metadata": {},
   "source": [
    "### Verileri LSTM'ye Uygun Hale Getirme"
   ]
  },
  {
   "cell_type": "code",
   "execution_count": 20,
   "id": "educational-boston",
   "metadata": {},
   "outputs": [],
   "source": [
    "TRAINvector = np.reshape(TRAINvector, (TRAINvector.shape[0], 1, TRAINvector.shape[1]))\n",
    "TESTvector = np.reshape(TESTvector, (TESTvector.shape[0], 1, TESTvector.shape[1]))"
   ]
  },
  {
   "cell_type": "markdown",
   "id": "micro-commons",
   "metadata": {},
   "source": [
    "### LSTM"
   ]
  },
  {
   "cell_type": "code",
   "execution_count": 52,
   "id": "opening-alias",
   "metadata": {},
   "outputs": [
    {
     "name": "stdout",
     "output_type": "stream",
     "text": [
      "Epoch 1/15\n",
      "148/148 [==============================] - 1s 9ms/step - loss: 0.6888 - accuracy: 0.5699 - val_loss: 0.6781 - val_accuracy: 0.7162\n",
      "Epoch 2/15\n",
      "148/148 [==============================] - 1s 5ms/step - loss: 0.6343 - accuracy: 0.7697 - val_loss: 0.5774 - val_accuracy: 0.8133\n",
      "Epoch 3/15\n",
      "148/148 [==============================] - 1s 4ms/step - loss: 0.5029 - accuracy: 0.8135 - val_loss: 0.4173 - val_accuracy: 0.8590\n",
      "Epoch 4/15\n",
      "148/148 [==============================] - 1s 4ms/step - loss: 0.4110 - accuracy: 0.8398 - val_loss: 0.3615 - val_accuracy: 0.8514\n",
      "Epoch 5/15\n",
      "148/148 [==============================] - 1s 5ms/step - loss: 0.3895 - accuracy: 0.8448 - val_loss: 0.3374 - val_accuracy: 0.8629\n",
      "Epoch 6/15\n",
      "148/148 [==============================] - 1s 4ms/step - loss: 0.3712 - accuracy: 0.8486 - val_loss: 0.3372 - val_accuracy: 0.8495\n",
      "Epoch 7/15\n",
      "148/148 [==============================] - 1s 4ms/step - loss: 0.3579 - accuracy: 0.8527 - val_loss: 0.3223 - val_accuracy: 0.8590\n",
      "Epoch 8/15\n",
      "148/148 [==============================] - 1s 4ms/step - loss: 0.3537 - accuracy: 0.8533 - val_loss: 0.3199 - val_accuracy: 0.8552\n",
      "Epoch 9/15\n",
      "148/148 [==============================] - 1s 4ms/step - loss: 0.3435 - accuracy: 0.8594 - val_loss: 0.3168 - val_accuracy: 0.8495\n",
      "Epoch 10/15\n",
      "148/148 [==============================] - 1s 5ms/step - loss: 0.3401 - accuracy: 0.8599 - val_loss: 0.3205 - val_accuracy: 0.8533\n",
      "Epoch 11/15\n",
      "148/148 [==============================] - 1s 4ms/step - loss: 0.3367 - accuracy: 0.8609 - val_loss: 0.3154 - val_accuracy: 0.8495\n",
      "Epoch 12/15\n",
      "148/148 [==============================] - 1s 4ms/step - loss: 0.3301 - accuracy: 0.8635 - val_loss: 0.3212 - val_accuracy: 0.8610\n",
      "Epoch 13/15\n",
      "148/148 [==============================] - 1s 4ms/step - loss: 0.3261 - accuracy: 0.8683 - val_loss: 0.3175 - val_accuracy: 0.8514\n",
      "Epoch 14/15\n",
      "148/148 [==============================] - 1s 4ms/step - loss: 0.3289 - accuracy: 0.8707 - val_loss: 0.3185 - val_accuracy: 0.8514\n",
      "Epoch 15/15\n",
      "148/148 [==============================] - 1s 4ms/step - loss: 0.3196 - accuracy: 0.8713 - val_loss: 0.3213 - val_accuracy: 0.8571\n",
      "84/84 [==============================] - 0s 2ms/step - loss: 0.3530 - accuracy: 0.8542\n",
      "Loss ->  0.3529966175556183 Accuracy ->  0.854158878326416\n"
     ]
    }
   ],
   "source": [
    "model = Sequential()\n",
    "model.add(LSTM(96, activation='relu', recurrent_dropout = 0.2, return_sequences=True))\n",
    "model.add(Dropout(0.2))\n",
    "model.add(LSTM(48, activation='relu', recurrent_dropout = 0.2))\n",
    "model.add(Dropout(0.3))\n",
    "model.add(Dense(1, activation='sigmoid'))\n",
    "\n",
    "model.compile(loss='binary_crossentropy', optimizer='rmsprop', metrics=['accuracy'])\n",
    "\n",
    "model.fit(TRAINvector,TrainOUTPUT, epochs=15, batch_size=32, validation_split=0.1)\n",
    "\n",
    "loss, acc = model.evaluate(TESTvector, TestOUTPUT)\n",
    "print(\"Loss -> \", loss, \"Accuracy -> \", acc)"
   ]
  },
  {
   "cell_type": "code",
   "execution_count": null,
   "id": "varied-biology",
   "metadata": {},
   "outputs": [],
   "source": []
  }
 ],
 "metadata": {
  "kernelspec": {
   "display_name": "Python 3",
   "language": "python",
   "name": "python3"
  },
  "language_info": {
   "codemirror_mode": {
    "name": "ipython",
    "version": 3
   },
   "file_extension": ".py",
   "mimetype": "text/x-python",
   "name": "python",
   "nbconvert_exporter": "python",
   "pygments_lexer": "ipython3",
   "version": "3.8.5"
  }
 },
 "nbformat": 4,
 "nbformat_minor": 5
}
