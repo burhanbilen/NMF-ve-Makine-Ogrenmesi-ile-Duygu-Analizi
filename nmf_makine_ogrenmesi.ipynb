{
 "cells": [
  {
   "cell_type": "code",
   "execution_count": 2,
   "id": "forced-contemporary",
   "metadata": {},
   "outputs": [],
   "source": [
    "import re\n",
    "import pandas as pd\n",
    "from nltk.corpus import stopwords\n",
    "from sklearn.model_selection import train_test_split\n",
    "from keras.models import Sequential\n",
    "from keras.layers import Dense, Activation, Dropout, Flatten, LSTM\n",
    "from sklearn.feature_extraction.text import CountVectorizer, TfidfVectorizer\n",
    "from sklearn import model_selection, naive_bayes, svm, linear_model\n",
    "from sklearn.metrics import accuracy_score\n",
    "from sklearn.metrics import confusion_matrix\n",
    "from keras.preprocessing.text import Tokenizer\n",
    "from keras.preprocessing import sequence\n",
    "from keras.layers.embeddings import Embedding\n",
    "from sklearn.decomposition import NMF\n",
    "from scipy.sparse import vstack\n",
    "import matplotlib.pyplot as plt\n",
    "import seaborn as sns\n",
    "import numpy as np"
   ]
  },
  {
   "cell_type": "code",
   "execution_count": 5,
   "id": "associate-local",
   "metadata": {},
   "outputs": [],
   "source": [
    "df = pd.read_csv(\"bnn.csv\")\n",
    "\n",
    "X = np.array(df[\"Görüş\"].values.astype('U')) \n",
    "df[\"Durum\"].replace({\"Olumlu\": 1, \"Olumsuz\": 0}, inplace=True)\n",
    "y = np.array(df[\"Durum\"].values)"
   ]
  },
  {
   "cell_type": "code",
   "execution_count": 6,
   "id": "liquid-isaac",
   "metadata": {},
   "outputs": [
    {
     "name": "stdout",
     "output_type": "stream",
     "text": [
      "[[0 0 0 ... 0 0 0]\n",
      " [0 0 0 ... 0 0 0]\n",
      " [0 0 0 ... 0 0 0]\n",
      " ...\n",
      " [0 0 0 ... 0 0 0]\n",
      " [0 0 0 ... 0 0 0]\n",
      " [0 0 0 ... 0 0 0]]\n"
     ]
    }
   ],
   "source": [
    "count = CountVectorizer()\n",
    "X = count.fit_transform(X)\n",
    "\n",
    "print(X.toarray())"
   ]
  },
  {
   "cell_type": "code",
   "execution_count": 7,
   "id": "trying-diversity",
   "metadata": {},
   "outputs": [],
   "source": [
    "X_train, X_test, y_train, y_test = train_test_split(X, y, test_size=0.05)"
   ]
  },
  {
   "cell_type": "code",
   "execution_count": 8,
   "id": "crucial-runner",
   "metadata": {},
   "outputs": [],
   "source": [
    "FullMatrix=vstack([X_train, X_test])"
   ]
  },
  {
   "cell_type": "markdown",
   "id": "british-cameroon",
   "metadata": {},
   "source": [
    "### NMF ile veri dönüşümü"
   ]
  },
  {
   "cell_type": "code",
   "execution_count": 9,
   "id": "protective-cotton",
   "metadata": {},
   "outputs": [
    {
     "name": "stdout",
     "output_type": "stream",
     "text": [
      "(8348, 200)\n",
      "(200, 27155)\n"
     ]
    }
   ],
   "source": [
    "model = NMF(n_components=200, init='random', random_state=0)\n",
    "W = model.fit_transform(FullMatrix)\n",
    "H = model.components_\n",
    "\n",
    "print(W.shape)\n",
    "print(H.shape)"
   ]
  },
  {
   "cell_type": "code",
   "execution_count": 19,
   "id": "animated-sending",
   "metadata": {},
   "outputs": [],
   "source": [
    "TESTvector=W[0:2681,:]\n",
    "TRAINvector=W[2681:7930,:]\n",
    "\n",
    "TestOUTPUT = y_train[:2681]\n",
    "TrainOUTPUT = y_train[2681:]"
   ]
  },
  {
   "cell_type": "markdown",
   "id": "legislative-heading",
   "metadata": {},
   "source": [
    "### SVM"
   ]
  },
  {
   "cell_type": "code",
   "execution_count": 11,
   "id": "narrative-contents",
   "metadata": {},
   "outputs": [
    {
     "name": "stdout",
     "output_type": "stream",
     "text": [
      "SVM Accuracy Score ->  81.79783662812383\n"
     ]
    }
   ],
   "source": [
    "SVM = svm.SVC()\n",
    "SVM.fit(TRAINvector,TrainOUTPUT)\n",
    "\n",
    "predictions_SVM = SVM.predict(TESTvector)\n",
    "\n",
    "print(\"SVM Accuracy Score -> \",accuracy_score(predictions_SVM, TestOUTPUT)*100)"
   ]
  },
  {
   "cell_type": "markdown",
   "id": "contemporary-chance",
   "metadata": {},
   "source": [
    "### Yapay Sinir Ağı"
   ]
  },
  {
   "cell_type": "code",
   "execution_count": 13,
   "id": "floppy-swaziland",
   "metadata": {},
   "outputs": [
    {
     "name": "stdout",
     "output_type": "stream",
     "text": [
      "Model: \"sequential_1\"\n",
      "_________________________________________________________________\n",
      "Layer (type)                 Output Shape              Param #   \n",
      "=================================================================\n",
      "dense_3 (Dense)              (None, 5249, 72)          14472     \n",
      "_________________________________________________________________\n",
      "activation_3 (Activation)    (None, 5249, 72)          0         \n",
      "_________________________________________________________________\n",
      "dropout_1 (Dropout)          (None, 5249, 72)          0         \n",
      "_________________________________________________________________\n",
      "dense_4 (Dense)              (None, 5249, 48)          3504      \n",
      "_________________________________________________________________\n",
      "activation_4 (Activation)    (None, 5249, 48)          0         \n",
      "_________________________________________________________________\n",
      "dense_5 (Dense)              (None, 5249, 1)           49        \n",
      "_________________________________________________________________\n",
      "activation_5 (Activation)    (None, 5249, 1)           0         \n",
      "=================================================================\n",
      "Total params: 18,025\n",
      "Trainable params: 18,025\n",
      "Non-trainable params: 0\n",
      "_________________________________________________________________\n",
      "Epoch 1/10\n",
      "WARNING:tensorflow:Model was constructed with shape (None, 5249, 200) for input Tensor(\"dense_3_input:0\", shape=(None, 5249, 200), dtype=float32), but it was called on an input with incompatible shape (None, 200).\n",
      "WARNING:tensorflow:Model was constructed with shape (None, 5249, 200) for input Tensor(\"dense_3_input:0\", shape=(None, 5249, 200), dtype=float32), but it was called on an input with incompatible shape (None, 200).\n",
      "303/329 [==========================>...] - ETA: 0s - loss: 0.5846 - accuracy: 0.7232WARNING:tensorflow:Model was constructed with shape (None, 5249, 200) for input Tensor(\"dense_3_input:0\", shape=(None, 5249, 200), dtype=float32), but it was called on an input with incompatible shape (None, 200).\n",
      "329/329 [==============================] - 1s 2ms/step - loss: 0.5744 - accuracy: 0.7295 - val_loss: 0.3925 - val_accuracy: 0.8355\n",
      "Epoch 2/10\n",
      "329/329 [==============================] - 0s 1ms/step - loss: 0.3688 - accuracy: 0.8436 - val_loss: 0.3729 - val_accuracy: 0.8363\n",
      "Epoch 3/10\n",
      "329/329 [==============================] - 0s 1ms/step - loss: 0.3389 - accuracy: 0.8546 - val_loss: 0.3552 - val_accuracy: 0.8366\n",
      "Epoch 4/10\n",
      "329/329 [==============================] - 0s 1ms/step - loss: 0.3234 - accuracy: 0.8613 - val_loss: 0.3417 - val_accuracy: 0.8463\n",
      "Epoch 5/10\n",
      "329/329 [==============================] - 0s 1ms/step - loss: 0.3139 - accuracy: 0.8642 - val_loss: 0.3387 - val_accuracy: 0.8527\n",
      "Epoch 6/10\n",
      "329/329 [==============================] - 0s 2ms/step - loss: 0.3058 - accuracy: 0.8682 - val_loss: 0.3361 - val_accuracy: 0.8504\n",
      "Epoch 7/10\n",
      "329/329 [==============================] - 0s 1ms/step - loss: 0.2955 - accuracy: 0.8739 - val_loss: 0.3348 - val_accuracy: 0.8497\n",
      "Epoch 8/10\n",
      "329/329 [==============================] - 0s 1ms/step - loss: 0.2895 - accuracy: 0.8764 - val_loss: 0.3487 - val_accuracy: 0.8519\n",
      "Epoch 9/10\n",
      "329/329 [==============================] - 0s 1ms/step - loss: 0.2819 - accuracy: 0.8798 - val_loss: 0.3466 - val_accuracy: 0.8512\n",
      "Epoch 10/10\n",
      "329/329 [==============================] - 0s 1ms/step - loss: 0.2756 - accuracy: 0.8819 - val_loss: 0.3420 - val_accuracy: 0.8482\n",
      "84/84 [==============================] - 0s 838us/step - loss: 0.3420 - accuracy: 0.8482\n",
      "Loss ->  0.34196290373802185 Accuracy ->  0.84819096326828\n"
     ]
    }
   ],
   "source": [
    "ysa = Sequential()\n",
    "ysa.add(Dense(72, input_shape = (TRAINvector.shape)))\n",
    "ysa.add(Activation(\"relu\"))\n",
    "ysa.add(Dropout(0.2))\n",
    "ysa.add(Dense(48))\n",
    "ysa.add(Activation(\"relu\"))\n",
    "ysa.add(Dense(1))\n",
    "ysa.add(Activation(\"sigmoid\"))\n",
    "\n",
    "ysa.compile(loss='binary_crossentropy', optimizer='adam', metrics=['accuracy'])\n",
    "\n",
    "ysa.summary()\n",
    "\n",
    "ysa.fit(TRAINvector,TrainOUTPUT, epochs=10, batch_size=16, validation_data=(TESTvector, TestOUTPUT))\n",
    "\n",
    "test_loss, test_acc = ysa.evaluate(TESTvector, TestOUTPUT)\n",
    "print(\"Loss -> \", test_loss, \"Accuracy -> \", test_acc)"
   ]
  },
  {
   "cell_type": "markdown",
   "id": "surprised-president",
   "metadata": {},
   "source": [
    "### Verileri LSTM'ye Uygun Hale Getirme"
   ]
  },
  {
   "cell_type": "code",
   "execution_count": 20,
   "id": "possible-hollow",
   "metadata": {},
   "outputs": [],
   "source": [
    "TRAINvector = np.reshape(TRAINvector, (TRAINvector.shape[0], 1, TRAINvector.shape[1]))\n",
    "TESTvector = np.reshape(TESTvector, (TESTvector.shape[0], 1, TESTvector.shape[1]))"
   ]
  },
  {
   "cell_type": "markdown",
   "id": "premier-agriculture",
   "metadata": {},
   "source": [
    "### LSTM"
   ]
  },
  {
   "cell_type": "code",
   "execution_count": 46,
   "id": "dated-stationery",
   "metadata": {},
   "outputs": [
    {
     "name": "stdout",
     "output_type": "stream",
     "text": [
      "Epoch 1/15\n",
      "290/296 [============================>.] - ETA: 0s - loss: 0.6421 - accuracy: 0.6425WARNING:tensorflow:Callbacks method `on_test_batch_end` is slow compared to the batch time (batch time: 0.0000s vs `on_test_batch_end` time: 0.0020s). Check your callbacks.\n",
      "296/296 [==============================] - 1s 5ms/step - loss: 0.6389 - accuracy: 0.6448 - val_loss: 0.4135 - val_accuracy: 0.8533\n",
      "Epoch 2/15\n",
      "296/296 [==============================] - 1s 3ms/step - loss: 0.4007 - accuracy: 0.8387 - val_loss: 0.3590 - val_accuracy: 0.8305\n",
      "Epoch 3/15\n",
      "296/296 [==============================] - 1s 3ms/step - loss: 0.3566 - accuracy: 0.8497 - val_loss: 0.3177 - val_accuracy: 0.8533\n",
      "Epoch 4/15\n",
      "296/296 [==============================] - 1s 3ms/step - loss: 0.3431 - accuracy: 0.8633 - val_loss: 0.3271 - val_accuracy: 0.8590\n",
      "Epoch 5/15\n",
      "296/296 [==============================] - 1s 3ms/step - loss: 0.3261 - accuracy: 0.8688 - val_loss: 0.3528 - val_accuracy: 0.8400\n",
      "Epoch 6/15\n",
      "296/296 [==============================] - 1s 3ms/step - loss: 0.3279 - accuracy: 0.8692 - val_loss: 0.3167 - val_accuracy: 0.8629\n",
      "Epoch 7/15\n",
      "296/296 [==============================] - 1s 3ms/step - loss: 0.3117 - accuracy: 0.8743 - val_loss: 0.3239 - val_accuracy: 0.8476\n",
      "Epoch 8/15\n",
      "296/296 [==============================] - 1s 3ms/step - loss: 0.3037 - accuracy: 0.8815 - val_loss: 0.3166 - val_accuracy: 0.8610\n",
      "Epoch 9/15\n",
      "296/296 [==============================] - 1s 3ms/step - loss: 0.2922 - accuracy: 0.8838 - val_loss: 0.3269 - val_accuracy: 0.8495\n",
      "Epoch 10/15\n",
      "296/296 [==============================] - 1s 3ms/step - loss: 0.2817 - accuracy: 0.8918 - val_loss: 0.3429 - val_accuracy: 0.8457\n",
      "Epoch 11/15\n",
      "296/296 [==============================] - 1s 3ms/step - loss: 0.2733 - accuracy: 0.8918 - val_loss: 0.3341 - val_accuracy: 0.8495\n",
      "Epoch 12/15\n",
      "296/296 [==============================] - 1s 3ms/step - loss: 0.2668 - accuracy: 0.8973 - val_loss: 0.3512 - val_accuracy: 0.8457\n",
      "Epoch 13/15\n",
      "296/296 [==============================] - 1s 3ms/step - loss: 0.2589 - accuracy: 0.8999 - val_loss: 0.3540 - val_accuracy: 0.8438\n",
      "Epoch 14/15\n",
      "296/296 [==============================] - 1s 3ms/step - loss: 0.2433 - accuracy: 0.9094 - val_loss: 0.3731 - val_accuracy: 0.8419\n",
      "Epoch 15/15\n",
      "296/296 [==============================] - 1s 3ms/step - loss: 0.2385 - accuracy: 0.9119 - val_loss: 0.3566 - val_accuracy: 0.8419\n",
      "84/84 [==============================] - 0s 1ms/step - loss: 0.3774 - accuracy: 0.8463\n",
      "Loss ->  0.377424031496048 Accuracy ->  0.8463259935379028\n"
     ]
    }
   ],
   "source": [
    "model = Sequential()\n",
    "model.add(LSTM(96, activation='relu', recurrent_dropout = 0.1))\n",
    "model.add(Dropout(0.2))\n",
    "model.add(Dense(48, activation='relu'))\n",
    "model.add(Dropout(0.3))\n",
    "model.add(Dense(32, activation='relu'))\n",
    "model.add(Dropout(0.4))\n",
    "model.add(Dense(1, activation='sigmoid'))\n",
    "\n",
    "model.compile(loss='binary_crossentropy', optimizer='adam', metrics=['accuracy'])\n",
    "\n",
    "model.fit(TRAINvector,TrainOUTPUT, epochs=15, batch_size=16, validation_split=0.1)\n",
    "\n",
    "loss, acc = model.evaluate(TESTvector, TestOUTPUT)\n",
    "print(\"Loss -> \", loss, \"Accuracy -> \", acc)"
   ]
  }
 ],
 "metadata": {
  "kernelspec": {
   "display_name": "Python 3",
   "language": "python",
   "name": "python3"
  },
  "language_info": {
   "codemirror_mode": {
    "name": "ipython",
    "version": 3
   },
   "file_extension": ".py",
   "mimetype": "text/x-python",
   "name": "python",
   "nbconvert_exporter": "python",
   "pygments_lexer": "ipython3",
   "version": "3.8.5"
  }
 },
 "nbformat": 4,
 "nbformat_minor": 5
}
